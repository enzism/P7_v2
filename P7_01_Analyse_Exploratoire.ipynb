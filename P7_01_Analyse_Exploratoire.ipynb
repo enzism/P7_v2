{
 "cells": [
  {
   "cell_type": "markdown",
   "id": "383eed79",
   "metadata": {},
   "source": [
    "# Openclassrooms Projet 7 :\n",
    "## Implémenter un modèle de scoring\n",
    "\n",
    "Notebook d'analyse exploratoire\n",
    "\n",
    "Enzo Etelbert"
   ]
  },
  {
   "cell_type": "markdown",
   "id": "646c3064",
   "metadata": {},
   "source": [
    "### Sommaire\n",
    "\n",
    "* [1. Chargement des données et analyse exploratoire](#1)\n",
    "    * [1.1. Librairies importantes](#11)\n",
    "    * [1.2. Chargement des données](#12)\n",
    "    * [1.3. Description globale des données](#13)\n",
    "* [2. Analyse détaillée des datasets de train et de test](#2)\n",
    "    * [2.1. applicartion_train.csv & application_test.csv](#2_1)\n",
    "        * [2.1.1. Création du pipeline](#2_11)\n",
    "        * [2.1.5. Prédictions du modèle sur les données test et résultats](#2_15)"
   ]
  },
  {
   "cell_type": "markdown",
   "id": "1ccc26cf",
   "metadata": {},
   "source": [
    "# 1. Chargement des données et analyse exploratoire <a class=\"anchor\" id=\"1\"></a>"
   ]
  },
  {
   "cell_type": "markdown",
   "id": "165af37c",
   "metadata": {},
   "source": [
    "## 1.1. Librairies importantes <a class=\"anchor\" id=\"11\"></a>"
   ]
  },
  {
   "cell_type": "code",
   "execution_count": 14,
   "id": "c5686cf8",
   "metadata": {},
   "outputs": [],
   "source": [
    "#Essential data science libraries\n",
    "import pandas as pd\n",
    "import seaborn as sns\n",
    "import glob\n",
    "import pickle\n",
    "import os\n",
    "import matplotlib.pyplot as plt\n",
    "import numpy as np\n",
    "%matplotlib inline"
   ]
  },
  {
   "cell_type": "code",
   "execution_count": 17,
   "id": "14be0366",
   "metadata": {},
   "outputs": [],
   "source": [
    "# Define plots style\n",
    "plt.style.use('fivethirtyeight')\n",
    "plt.rcParams.update(\n",
    "    {\n",
    "     'xtick.labelsize':25,\n",
    "     'ytick.labelsize':25,\n",
    "     'axes.labelsize': 25,\n",
    "     'legend.fontsize': 25,\n",
    "     'axes.titlesize':45,\n",
    "     'axes.titleweight':'bold',\n",
    "     'axes.titleweight':'bold'\n",
    "    })"
   ]
  },
  {
   "cell_type": "markdown",
   "id": "2ccdee3a",
   "metadata": {},
   "source": [
    "## 1.2. Chargement des données <a class=\"anchor\" id=\"12\"></a>"
   ]
  },
  {
   "cell_type": "code",
   "execution_count": 3,
   "id": "b98d8964",
   "metadata": {},
   "outputs": [
    {
     "name": "stdout",
     "output_type": "stream",
     "text": [
      "CPU times: user 15.3 s, sys: 2.58 s, total: 17.9 s\n",
      "Wall time: 18.2 s\n"
     ]
    }
   ],
   "source": [
    "%%time \n",
    "application_train = pd.read_csv('data/application_train.csv', index_col=0)\n",
    "application_test = pd.read_csv('data/application_test.csv', index_col=0)\n",
    "bureau = pd.read_csv('data/bureau.csv', index_col=0)\n",
    "bureau_balance = pd.read_csv('data/bureau_balance.csv', index_col=0)\n",
    "credit_card_balance = pd.read_csv('data/credit_card_balance.csv', index_col=0)\n",
    "installments_payments = pd.read_csv('data/installments_payments.csv', index_col=0)\n",
    "POS_CASH_balance = pd.read_csv('data/POS_CASH_balance.csv', index_col=0)\n",
    "previous_application = pd.read_csv('data/previous_application.csv', index_col=0)"
   ]
  },
  {
   "cell_type": "code",
   "execution_count": 5,
   "id": "600181d9",
   "metadata": {
    "scrolled": false
   },
   "outputs": [
    {
     "name": "stdout",
     "output_type": "stream",
     "text": [
      "Définition des features :\n"
     ]
    },
    {
     "data": {
      "text/html": [
       "<div>\n",
       "<style scoped>\n",
       "    .dataframe tbody tr th:only-of-type {\n",
       "        vertical-align: middle;\n",
       "    }\n",
       "\n",
       "    .dataframe tbody tr th {\n",
       "        vertical-align: top;\n",
       "    }\n",
       "\n",
       "    .dataframe thead th {\n",
       "        text-align: right;\n",
       "    }\n",
       "</style>\n",
       "<table border=\"1\" class=\"dataframe\">\n",
       "  <thead>\n",
       "    <tr style=\"text-align: right;\">\n",
       "      <th></th>\n",
       "      <th>Table</th>\n",
       "      <th>Row</th>\n",
       "      <th>Description</th>\n",
       "      <th>Special</th>\n",
       "    </tr>\n",
       "  </thead>\n",
       "  <tbody>\n",
       "    <tr>\n",
       "      <th>1</th>\n",
       "      <td>application_{train|test}.csv</td>\n",
       "      <td>SK_ID_CURR</td>\n",
       "      <td>ID of loan in our sample</td>\n",
       "      <td>NaN</td>\n",
       "    </tr>\n",
       "    <tr>\n",
       "      <th>2</th>\n",
       "      <td>application_{train|test}.csv</td>\n",
       "      <td>TARGET</td>\n",
       "      <td>Target variable (1 - client with payment difficulties: he/she had late payment more than X days on at least one of the first Y installments of the loan in our sample, 0 - all other cases)</td>\n",
       "      <td>NaN</td>\n",
       "    </tr>\n",
       "    <tr>\n",
       "      <th>5</th>\n",
       "      <td>application_{train|test}.csv</td>\n",
       "      <td>NAME_CONTRACT_TYPE</td>\n",
       "      <td>Identification if loan is cash or revolving</td>\n",
       "      <td>NaN</td>\n",
       "    </tr>\n",
       "    <tr>\n",
       "      <th>6</th>\n",
       "      <td>application_{train|test}.csv</td>\n",
       "      <td>CODE_GENDER</td>\n",
       "      <td>Gender of the client</td>\n",
       "      <td>NaN</td>\n",
       "    </tr>\n",
       "    <tr>\n",
       "      <th>7</th>\n",
       "      <td>application_{train|test}.csv</td>\n",
       "      <td>FLAG_OWN_CAR</td>\n",
       "      <td>Flag if the client owns a car</td>\n",
       "      <td>NaN</td>\n",
       "    </tr>\n",
       "    <tr>\n",
       "      <th>...</th>\n",
       "      <td>...</td>\n",
       "      <td>...</td>\n",
       "      <td>...</td>\n",
       "      <td>...</td>\n",
       "    </tr>\n",
       "    <tr>\n",
       "      <th>217</th>\n",
       "      <td>installments_payments.csv</td>\n",
       "      <td>NUM_INSTALMENT_NUMBER</td>\n",
       "      <td>On which installment we observe payment</td>\n",
       "      <td>NaN</td>\n",
       "    </tr>\n",
       "    <tr>\n",
       "      <th>218</th>\n",
       "      <td>installments_payments.csv</td>\n",
       "      <td>DAYS_INSTALMENT</td>\n",
       "      <td>When the installment of previous credit was supposed to be paid (relative to application date of current loan)</td>\n",
       "      <td>time only relative to the application</td>\n",
       "    </tr>\n",
       "    <tr>\n",
       "      <th>219</th>\n",
       "      <td>installments_payments.csv</td>\n",
       "      <td>DAYS_ENTRY_PAYMENT</td>\n",
       "      <td>When was the installments of previous credit paid actually (relative to application date of current loan)</td>\n",
       "      <td>time only relative to the application</td>\n",
       "    </tr>\n",
       "    <tr>\n",
       "      <th>220</th>\n",
       "      <td>installments_payments.csv</td>\n",
       "      <td>AMT_INSTALMENT</td>\n",
       "      <td>What was the prescribed installment amount of previous credit on this installment</td>\n",
       "      <td>NaN</td>\n",
       "    </tr>\n",
       "    <tr>\n",
       "      <th>221</th>\n",
       "      <td>installments_payments.csv</td>\n",
       "      <td>AMT_PAYMENT</td>\n",
       "      <td>What the client actually paid on previous credit on this installment</td>\n",
       "      <td>NaN</td>\n",
       "    </tr>\n",
       "  </tbody>\n",
       "</table>\n",
       "<p>219 rows × 4 columns</p>\n",
       "</div>"
      ],
      "text/plain": [
       "                            Table                    Row  \\\n",
       "1    application_{train|test}.csv             SK_ID_CURR   \n",
       "2    application_{train|test}.csv                 TARGET   \n",
       "5    application_{train|test}.csv     NAME_CONTRACT_TYPE   \n",
       "6    application_{train|test}.csv            CODE_GENDER   \n",
       "7    application_{train|test}.csv           FLAG_OWN_CAR   \n",
       "..                            ...                    ...   \n",
       "217     installments_payments.csv  NUM_INSTALMENT_NUMBER   \n",
       "218     installments_payments.csv        DAYS_INSTALMENT   \n",
       "219     installments_payments.csv     DAYS_ENTRY_PAYMENT   \n",
       "220     installments_payments.csv         AMT_INSTALMENT   \n",
       "221     installments_payments.csv            AMT_PAYMENT   \n",
       "\n",
       "                                                                                                                                                                                     Description  \\\n",
       "1                                                                                                                                                                       ID of loan in our sample   \n",
       "2    Target variable (1 - client with payment difficulties: he/she had late payment more than X days on at least one of the first Y installments of the loan in our sample, 0 - all other cases)   \n",
       "5                                                                                                                                                    Identification if loan is cash or revolving   \n",
       "6                                                                                                                                                                           Gender of the client   \n",
       "7                                                                                                                                                                  Flag if the client owns a car   \n",
       "..                                                                                                                                                                                           ...   \n",
       "217                                                                                                                                                      On which installment we observe payment   \n",
       "218                                                                               When the installment of previous credit was supposed to be paid (relative to application date of current loan)   \n",
       "219                                                                                    When was the installments of previous credit paid actually (relative to application date of current loan)   \n",
       "220                                                                                                            What was the prescribed installment amount of previous credit on this installment   \n",
       "221                                                                                                                         What the client actually paid on previous credit on this installment   \n",
       "\n",
       "                                   Special  \n",
       "1                                      NaN  \n",
       "2                                      NaN  \n",
       "5                                      NaN  \n",
       "6                                      NaN  \n",
       "7                                      NaN  \n",
       "..                                     ...  \n",
       "217                                    NaN  \n",
       "218  time only relative to the application  \n",
       "219  time only relative to the application  \n",
       "220                                    NaN  \n",
       "221                                    NaN  \n",
       "\n",
       "[219 rows x 4 columns]"
      ]
     },
     "execution_count": 5,
     "metadata": {},
     "output_type": "execute_result"
    }
   ],
   "source": [
    "print(\"Définition des features :\")\n",
    "pd.set_option(\"max_colwidth\", 400)\n",
    "description = pd.read_csv('data/features_description.csv',  encoding=\"ISO-8859-1\", index_col=0)\n",
    "description"
   ]
  },
  {
   "cell_type": "markdown",
   "id": "67e217e6",
   "metadata": {},
   "source": [
    "## 1.3. Description globale des données <a class=\"anchor\" id=\"13\"></a>"
   ]
  },
  {
   "cell_type": "markdown",
   "id": "3db8d168",
   "metadata": {},
   "source": [
    "### Description globale des données"
   ]
  },
  {
   "cell_type": "code",
   "execution_count": 5,
   "id": "a4954624",
   "metadata": {},
   "outputs": [],
   "source": [
    "def data_describe(folder):\n",
    "    '''Check the number of rows, columns, missing values and duplicates.\n",
    "       Count type of columns.\n",
    "       Memory indication'''\n",
    "\n",
    "    data_dict = {}\n",
    "    for file in folder:\n",
    "        if file != \"./data/features_description.csv\":\n",
    "            data = pd.read_csv(file)\n",
    "            data_dict[file] = [data.shape[0], \n",
    "                               data.shape[1],\n",
    "                                round(data.isna().sum().sum()/data.size*100, 2),\n",
    "                                round(data.duplicated().sum().sum()/data.size*100, 2),\n",
    "                                data.select_dtypes(include=['object']).shape[1],\n",
    "                                data.select_dtypes(include=['float']).shape[1],\n",
    "                                data.select_dtypes(include=['int']).shape[1],\n",
    "                                data.select_dtypes(include=['bool']).shape[1],\n",
    "                                round(data.memory_usage().sum()/1024**2, 3)]\n",
    "\n",
    "            comparative_table = pd.DataFrame.from_dict(data = data_dict, \n",
    "                                                       columns = ['Rows', 'Columns', '%NaN', '%Duplicate', \n",
    "                                                                  'object_dtype','float_dtype', 'int_dtype', \n",
    "                                                                  'bool_dtype', 'MB_Memory'], \n",
    "                                                       orient='index')\n",
    "    return(comparative_table)"
   ]
  },
  {
   "cell_type": "markdown",
   "id": "f4446f1d",
   "metadata": {},
   "source": [
    "#### Aperçu des dimensions des datasets, valeurs manquantes, type de données etc."
   ]
  },
  {
   "cell_type": "code",
   "execution_count": 6,
   "id": "4b37247d",
   "metadata": {},
   "outputs": [
    {
     "data": {
      "text/html": [
       "<div>\n",
       "<style scoped>\n",
       "    .dataframe tbody tr th:only-of-type {\n",
       "        vertical-align: middle;\n",
       "    }\n",
       "\n",
       "    .dataframe tbody tr th {\n",
       "        vertical-align: top;\n",
       "    }\n",
       "\n",
       "    .dataframe thead th {\n",
       "        text-align: right;\n",
       "    }\n",
       "</style>\n",
       "<table border=\"1\" class=\"dataframe\">\n",
       "  <thead>\n",
       "    <tr style=\"text-align: right;\">\n",
       "      <th></th>\n",
       "      <th>Rows</th>\n",
       "      <th>Columns</th>\n",
       "      <th>%NaN</th>\n",
       "      <th>%Duplicate</th>\n",
       "      <th>object_dtype</th>\n",
       "      <th>float_dtype</th>\n",
       "      <th>int_dtype</th>\n",
       "      <th>bool_dtype</th>\n",
       "      <th>MB_Memory</th>\n",
       "    </tr>\n",
       "  </thead>\n",
       "  <tbody>\n",
       "    <tr>\n",
       "      <th>./data/application_test.csv</th>\n",
       "      <td>48744</td>\n",
       "      <td>121</td>\n",
       "      <td>23.81</td>\n",
       "      <td>0.0</td>\n",
       "      <td>16</td>\n",
       "      <td>65</td>\n",
       "      <td>40</td>\n",
       "      <td>0</td>\n",
       "      <td>44.998</td>\n",
       "    </tr>\n",
       "    <tr>\n",
       "      <th>./data/POS_CASH_balance.csv</th>\n",
       "      <td>10001358</td>\n",
       "      <td>8</td>\n",
       "      <td>0.07</td>\n",
       "      <td>0.0</td>\n",
       "      <td>1</td>\n",
       "      <td>2</td>\n",
       "      <td>5</td>\n",
       "      <td>0</td>\n",
       "      <td>610.435</td>\n",
       "    </tr>\n",
       "    <tr>\n",
       "      <th>./data/credit_card_balance.csv</th>\n",
       "      <td>3840312</td>\n",
       "      <td>23</td>\n",
       "      <td>6.65</td>\n",
       "      <td>0.0</td>\n",
       "      <td>1</td>\n",
       "      <td>15</td>\n",
       "      <td>7</td>\n",
       "      <td>0</td>\n",
       "      <td>673.883</td>\n",
       "    </tr>\n",
       "    <tr>\n",
       "      <th>./data/installments_payments.csv</th>\n",
       "      <td>13605401</td>\n",
       "      <td>8</td>\n",
       "      <td>0.01</td>\n",
       "      <td>0.0</td>\n",
       "      <td>0</td>\n",
       "      <td>5</td>\n",
       "      <td>3</td>\n",
       "      <td>0</td>\n",
       "      <td>830.408</td>\n",
       "    </tr>\n",
       "    <tr>\n",
       "      <th>./data/application_train.csv</th>\n",
       "      <td>307511</td>\n",
       "      <td>122</td>\n",
       "      <td>24.40</td>\n",
       "      <td>0.0</td>\n",
       "      <td>16</td>\n",
       "      <td>65</td>\n",
       "      <td>41</td>\n",
       "      <td>0</td>\n",
       "      <td>286.227</td>\n",
       "    </tr>\n",
       "    <tr>\n",
       "      <th>./data/bureau.csv</th>\n",
       "      <td>1716428</td>\n",
       "      <td>17</td>\n",
       "      <td>13.50</td>\n",
       "      <td>0.0</td>\n",
       "      <td>3</td>\n",
       "      <td>8</td>\n",
       "      <td>6</td>\n",
       "      <td>0</td>\n",
       "      <td>222.620</td>\n",
       "    </tr>\n",
       "    <tr>\n",
       "      <th>./data/previous_application.csv</th>\n",
       "      <td>1670214</td>\n",
       "      <td>37</td>\n",
       "      <td>17.98</td>\n",
       "      <td>0.0</td>\n",
       "      <td>16</td>\n",
       "      <td>15</td>\n",
       "      <td>6</td>\n",
       "      <td>0</td>\n",
       "      <td>471.481</td>\n",
       "    </tr>\n",
       "    <tr>\n",
       "      <th>./data/bureau_balance.csv</th>\n",
       "      <td>27299925</td>\n",
       "      <td>3</td>\n",
       "      <td>0.00</td>\n",
       "      <td>0.0</td>\n",
       "      <td>1</td>\n",
       "      <td>0</td>\n",
       "      <td>2</td>\n",
       "      <td>0</td>\n",
       "      <td>624.846</td>\n",
       "    </tr>\n",
       "    <tr>\n",
       "      <th>./data/sample_submission.csv</th>\n",
       "      <td>48744</td>\n",
       "      <td>2</td>\n",
       "      <td>0.00</td>\n",
       "      <td>0.0</td>\n",
       "      <td>0</td>\n",
       "      <td>1</td>\n",
       "      <td>1</td>\n",
       "      <td>0</td>\n",
       "      <td>0.744</td>\n",
       "    </tr>\n",
       "  </tbody>\n",
       "</table>\n",
       "</div>"
      ],
      "text/plain": [
       "                                      Rows  Columns   %NaN  %Duplicate  \\\n",
       "./data/application_test.csv          48744      121  23.81         0.0   \n",
       "./data/POS_CASH_balance.csv       10001358        8   0.07         0.0   \n",
       "./data/credit_card_balance.csv     3840312       23   6.65         0.0   \n",
       "./data/installments_payments.csv  13605401        8   0.01         0.0   \n",
       "./data/application_train.csv        307511      122  24.40         0.0   \n",
       "./data/bureau.csv                  1716428       17  13.50         0.0   \n",
       "./data/previous_application.csv    1670214       37  17.98         0.0   \n",
       "./data/bureau_balance.csv         27299925        3   0.00         0.0   \n",
       "./data/sample_submission.csv         48744        2   0.00         0.0   \n",
       "\n",
       "                                  object_dtype  float_dtype  int_dtype  \\\n",
       "./data/application_test.csv                 16           65         40   \n",
       "./data/POS_CASH_balance.csv                  1            2          5   \n",
       "./data/credit_card_balance.csv               1           15          7   \n",
       "./data/installments_payments.csv             0            5          3   \n",
       "./data/application_train.csv                16           65         41   \n",
       "./data/bureau.csv                            3            8          6   \n",
       "./data/previous_application.csv             16           15          6   \n",
       "./data/bureau_balance.csv                    1            0          2   \n",
       "./data/sample_submission.csv                 0            1          1   \n",
       "\n",
       "                                  bool_dtype  MB_Memory  \n",
       "./data/application_test.csv                0     44.998  \n",
       "./data/POS_CASH_balance.csv                0    610.435  \n",
       "./data/credit_card_balance.csv             0    673.883  \n",
       "./data/installments_payments.csv           0    830.408  \n",
       "./data/application_train.csv               0    286.227  \n",
       "./data/bureau.csv                          0    222.620  \n",
       "./data/previous_application.csv            0    471.481  \n",
       "./data/bureau_balance.csv                  0    624.846  \n",
       "./data/sample_submission.csv               0      0.744  "
      ]
     },
     "execution_count": 6,
     "metadata": {},
     "output_type": "execute_result"
    }
   ],
   "source": [
    "#Data description\n",
    "data_describe(folder = glob.glob('./data/*.csv'))"
   ]
  },
  {
   "cell_type": "markdown",
   "id": "b194f8fb",
   "metadata": {},
   "source": [
    "**Remarques :**\n",
    "\n",
    "- application_test possède une colonne de moins que application_train car la cible (TARGET) n'est présente que dans le second\n",
    "- Pour ces deux jdd, le taux de valeurs manquantes est autour de 25%\n",
    "- Il y a des features de type object, cela signifie qu'il faudra les encoder"
   ]
  },
  {
   "cell_type": "markdown",
   "id": "1cc6d927",
   "metadata": {},
   "source": [
    "# 2. Analyse détaillée des datasets de train et de test <a class=\"anchor\" id=\"2\"></a>"
   ]
  },
  {
   "cell_type": "markdown",
   "id": "fe198e9e",
   "metadata": {},
   "source": [
    "Dans cette section, nous allons explorer en détail le contenu des données d'entraînement et de test. Nous allons étudier les distributions des variables, puis associer la TARGET avec le comportement des différentes features."
   ]
  },
  {
   "cell_type": "code",
   "execution_count": 6,
   "id": "3570532b",
   "metadata": {},
   "outputs": [
    {
     "name": "stdout",
     "output_type": "stream",
     "text": [
      "Training dataset shape:  (307511, 121)\n",
      "Testing dataset shape:  (48744, 120)\n"
     ]
    }
   ],
   "source": [
    "print('Training dataset shape: ', application_train.shape)\n",
    "print('Testing dataset shape: ', application_test.shape)"
   ]
  },
  {
   "cell_type": "markdown",
   "id": "9061802f",
   "metadata": {},
   "source": [
    "## 2.1. Etude de la cible : TARGET <a class=\"anchor\" id=\"21\"></a>"
   ]
  },
  {
   "cell_type": "markdown",
   "id": "394d1a9d",
   "metadata": {},
   "source": [
    "**NOTE :**\n",
    "\n",
    "- 0 : prêt remboursé\n",
    "- 1 : prêt non remboursé"
   ]
  },
  {
   "cell_type": "code",
   "execution_count": 19,
   "id": "cf990343",
   "metadata": {},
   "outputs": [
    {
     "name": "stdout",
     "output_type": "stream",
     "text": [
      "DISTRIBUTION DE TARGET : \n",
      "0    282686\n",
      "1     24825\n",
      "Name: TARGET, dtype: int64\n"
     ]
    },
    {
     "data": {
      "image/png": "[encoded data removed]",
      "text/plain": [
       "<Figure size 1440x576 with 1 Axes>"
      ]
     },
     "metadata": {},
     "output_type": "display_data"
    }
   ],
   "source": [
    "#Distribution of the Target Column\n",
    "print(f\"DISTRIBUTION DE TARGET : \\n{application_train['TARGET'].value_counts()}\")\n",
    "\n",
    "ax, fig = plt.subplots(figsize=(20,8)) \n",
    "ax = sns.countplot(y='TARGET', data=application_train)\n",
    "ax.set_title(\"TARGET distribution\")\n",
    "\n",
    "for p in ax.patches:\n",
    "        percentage = '{:.1f}%'.format(100 * p.get_width()/len(application_train.TARGET))\n",
    "        x = p.get_x() + p.get_width()\n",
    "        y = p.get_y() + p.get_height()/2\n",
    "        ax.annotate(percentage, (x, y), fontsize=20, fontweight='bold')\n",
    "        \n",
    "plt.show()"
   ]
  },
  {
   "cell_type": "markdown",
   "id": "70612501",
   "metadata": {},
   "source": [
    "**Remarques :**\n",
    "\n",
    "Les données sont très asymétriques. La grande majorité des prêts sont remboursés. Cela est un problème pour l'entraînement du modèle car il risque de retourner la même valeur à chaque prédiction du fait d'un grand nombre d'exemples identiques."
   ]
  },
  {
   "cell_type": "markdown",
   "id": "3dcff850",
   "metadata": {},
   "source": [
    "## 2.2. Types des données d'entraînement <a class=\"anchor\" id=\"22\"></a>"
   ]
  },
  {
   "cell_type": "code",
   "execution_count": 27,
   "id": "a8e60e10",
   "metadata": {
    "scrolled": true
   },
   "outputs": [
    {
     "name": "stdout",
     "output_type": "stream",
     "text": [
      "<class 'pandas.core.frame.DataFrame'>\n",
      "Int64Index: 307511 entries, 100002 to 456255\n",
      "Columns: 121 entries, TARGET to AMT_REQ_CREDIT_BUREAU_YEAR\n",
      "dtypes: float64(65), int64(40), object(16)\n",
      "memory usage: 286.2+ MB\n"
     ]
    }
   ],
   "source": [
    "application_train.info()"
   ]
  },
  {
   "cell_type": "code",
   "execution_count": 20,
   "id": "1357b4a2",
   "metadata": {},
   "outputs": [
    {
     "data": {
      "text/plain": [
       "float64    65\n",
       "int64      40\n",
       "object     16\n",
       "dtype: int64"
      ]
     },
     "execution_count": 20,
     "metadata": {},
     "output_type": "execute_result"
    }
   ],
   "source": [
    "#Number of each type of column\n",
    "application_train.dtypes.value_counts()"
   ]
  },
  {
   "cell_type": "code",
   "execution_count": 21,
   "id": "e9bf9c9b",
   "metadata": {},
   "outputs": [
    {
     "data": {
      "text/plain": [
       "NAME_CONTRACT_TYPE             2\n",
       "CODE_GENDER                    3\n",
       "FLAG_OWN_CAR                   2\n",
       "FLAG_OWN_REALTY                2\n",
       "NAME_TYPE_SUITE                7\n",
       "NAME_INCOME_TYPE               8\n",
       "NAME_EDUCATION_TYPE            5\n",
       "NAME_FAMILY_STATUS             6\n",
       "NAME_HOUSING_TYPE              6\n",
       "OCCUPATION_TYPE               18\n",
       "WEEKDAY_APPR_PROCESS_START     7\n",
       "ORGANIZATION_TYPE             58\n",
       "FONDKAPREMONT_MODE             4\n",
       "HOUSETYPE_MODE                 3\n",
       "WALLSMATERIAL_MODE             7\n",
       "EMERGENCYSTATE_MODE            2\n",
       "dtype: int64"
      ]
     },
     "execution_count": 21,
     "metadata": {},
     "output_type": "execute_result"
    }
   ],
   "source": [
    "#Number of unique classes in each object column\n",
    "application_train.select_dtypes('object').nunique()"
   ]
  },
  {
   "cell_type": "markdown",
   "id": "cca3c7d7",
   "metadata": {},
   "source": [
    "## 2.3. Valeurs manquantes dans les données d'entraînement <a class=\"anchor\" id=\"23\"></a>"
   ]
  },
  {
   "cell_type": "code",
   "execution_count": 35,
   "id": "856f05f0",
   "metadata": {},
   "outputs": [
    {
     "name": "stdout",
     "output_type": "stream",
     "text": [
      "TOP 10 Missing values from Training dataset\n"
     ]
    },
    {
     "data": {
      "text/html": [
       "<div>\n",
       "<style scoped>\n",
       "    .dataframe tbody tr th:only-of-type {\n",
       "        vertical-align: middle;\n",
       "    }\n",
       "\n",
       "    .dataframe tbody tr th {\n",
       "        vertical-align: top;\n",
       "    }\n",
       "\n",
       "    .dataframe thead th {\n",
       "        text-align: right;\n",
       "    }\n",
       "</style>\n",
       "<table border=\"1\" class=\"dataframe\">\n",
       "  <thead>\n",
       "    <tr style=\"text-align: right;\">\n",
       "      <th></th>\n",
       "      <th>Total</th>\n",
       "      <th>NaN (%)</th>\n",
       "    </tr>\n",
       "  </thead>\n",
       "  <tbody>\n",
       "    <tr>\n",
       "      <th>COMMONAREA_AVG</th>\n",
       "      <td>214865</td>\n",
       "      <td>69.87</td>\n",
       "    </tr>\n",
       "    <tr>\n",
       "      <th>COMMONAREA_MODE</th>\n",
       "      <td>214865</td>\n",
       "      <td>69.87</td>\n",
       "    </tr>\n",
       "    <tr>\n",
       "      <th>COMMONAREA_MEDI</th>\n",
       "      <td>214865</td>\n",
       "      <td>69.87</td>\n",
       "    </tr>\n",
       "    <tr>\n",
       "      <th>NONLIVINGAPARTMENTS_AVG</th>\n",
       "      <td>213514</td>\n",
       "      <td>69.43</td>\n",
       "    </tr>\n",
       "    <tr>\n",
       "      <th>NONLIVINGAPARTMENTS_MODE</th>\n",
       "      <td>213514</td>\n",
       "      <td>69.43</td>\n",
       "    </tr>\n",
       "    <tr>\n",
       "      <th>NONLIVINGAPARTMENTS_MEDI</th>\n",
       "      <td>213514</td>\n",
       "      <td>69.43</td>\n",
       "    </tr>\n",
       "    <tr>\n",
       "      <th>FONDKAPREMONT_MODE</th>\n",
       "      <td>210295</td>\n",
       "      <td>68.39</td>\n",
       "    </tr>\n",
       "    <tr>\n",
       "      <th>LIVINGAPARTMENTS_MEDI</th>\n",
       "      <td>210199</td>\n",
       "      <td>68.35</td>\n",
       "    </tr>\n",
       "    <tr>\n",
       "      <th>LIVINGAPARTMENTS_AVG</th>\n",
       "      <td>210199</td>\n",
       "      <td>68.35</td>\n",
       "    </tr>\n",
       "    <tr>\n",
       "      <th>LIVINGAPARTMENTS_MODE</th>\n",
       "      <td>210199</td>\n",
       "      <td>68.35</td>\n",
       "    </tr>\n",
       "  </tbody>\n",
       "</table>\n",
       "</div>"
      ],
      "text/plain": [
       "                           Total  NaN (%)\n",
       "COMMONAREA_AVG            214865    69.87\n",
       "COMMONAREA_MODE           214865    69.87\n",
       "COMMONAREA_MEDI           214865    69.87\n",
       "NONLIVINGAPARTMENTS_AVG   213514    69.43\n",
       "NONLIVINGAPARTMENTS_MODE  213514    69.43\n",
       "NONLIVINGAPARTMENTS_MEDI  213514    69.43\n",
       "FONDKAPREMONT_MODE        210295    68.39\n",
       "LIVINGAPARTMENTS_MEDI     210199    68.35\n",
       "LIVINGAPARTMENTS_AVG      210199    68.35\n",
       "LIVINGAPARTMENTS_MODE     210199    68.35"
      ]
     },
     "execution_count": 35,
     "metadata": {},
     "output_type": "execute_result"
    }
   ],
   "source": [
    "def nan_check(data):\n",
    "    '''Check Missing Values'''\n",
    "    total = data.isnull().sum()\n",
    "    percent_1 = data.isnull().sum()/data.isnull().count()*100\n",
    "    percent_2 = (np.round(percent_1, 2))\n",
    "    missing_data = pd.concat([total, percent_2], \n",
    "                             axis=1, keys=['Total', \"NaN (%)\"]).sort_values('NaN (%)', ascending=False)\n",
    "    return missing_data\n",
    "\n",
    "print('TOP 10 Missing values from Training dataset')\n",
    "nan_check(application_train)[:10]"
   ]
  },
  {
   "cell_type": "code",
   "execution_count": 37,
   "id": "9f322f0e",
   "metadata": {},
   "outputs": [
    {
     "name": "stdout",
     "output_type": "stream",
     "text": [
      "Nb of columns in the training sample: 121\n",
      "Nb of columns in the training sample with missing values: 67\n"
     ]
    }
   ],
   "source": [
    "print(\"Nb of columns in the training sample: \" + str(len(nan_check(application_train))))\n",
    "\n",
    "print(\"Nb of columns in the training sample with missing values: \" + \n",
    "      str(len(nan_check(application_train)[nan_check(application_train)['Total']!=0])))"
   ]
  },
  {
   "cell_type": "markdown",
   "id": "47c082c9",
   "metadata": {},
   "source": [
    "## 2.4. Analyse des valeurs (outliers, valeur atypiques ou aberrantes) <a class=\"anchor\" id=\"24\"></a>"
   ]
  },
  {
   "cell_type": "markdown",
   "id": "e54dff84",
   "metadata": {},
   "source": [
    "### 2.4.1. Age des clients : DAYS_BIRTH <a class=\"anchor\" id=\"241\"></a>"
   ]
  },
  {
   "cell_type": "code",
   "execution_count": 38,
   "id": "33410118",
   "metadata": {},
   "outputs": [
    {
     "data": {
      "text/plain": [
       "count    307511.000000\n",
       "mean     -16036.995067\n",
       "std        4363.988632\n",
       "min      -25229.000000\n",
       "25%      -19682.000000\n",
       "50%      -15750.000000\n",
       "75%      -12413.000000\n",
       "max       -7489.000000\n",
       "Name: DAYS_BIRTH, dtype: float64"
      ]
     },
     "execution_count": 38,
     "metadata": {},
     "output_type": "execute_result"
    }
   ],
   "source": [
    "#Client's age in days at the time of application (def. from HomeCredit_columns_description.csv)\n",
    "application_train['DAYS_BIRTH'].describe()"
   ]
  },
  {
   "cell_type": "code",
   "execution_count": 39,
   "id": "ff1b33db",
   "metadata": {},
   "outputs": [
    {
     "data": {
      "text/plain": [
       "count    307511.000000\n",
       "mean         43.936973\n",
       "std          11.956133\n",
       "min          20.517808\n",
       "25%          34.008219\n",
       "50%          43.150685\n",
       "75%          53.923288\n",
       "max          69.120548\n",
       "Name: DAYS_BIRTH, dtype: float64"
      ]
     },
     "execution_count": 39,
     "metadata": {},
     "output_type": "execute_result"
    }
   ],
   "source": [
    "(application_train['DAYS_BIRTH'] / -365).describe()"
   ]
  },
  {
   "cell_type": "code",
   "execution_count": 41,
   "id": "62adc86f",
   "metadata": {},
   "outputs": [
    {
     "data": {
      "image/png": "[encoded data removed]",
      "text/plain": [
       "<Figure size 1440x360 with 1 Axes>"
      ]
     },
     "metadata": {},
     "output_type": "display_data"
    }
   ],
   "source": [
    "plt.figure(figsize=(20, 5))\n",
    "sns.histplot((application_train['DAYS_BIRTH'] / -365), bins = 30).set_title('Age of client')\n",
    "plt.show()"
   ]
  },
  {
   "cell_type": "markdown",
   "id": "928b42d7",
   "metadata": {},
   "source": [
    "### days employed"
   ]
  },
  {
   "cell_type": "code",
   "execution_count": 49,
   "id": "ebc78c78",
   "metadata": {},
   "outputs": [
    {
     "data": {
      "text/plain": [
       "count    307511.000000\n",
       "mean        174.835742\n",
       "std         387.056895\n",
       "min         -49.073973\n",
       "25%          -7.561644\n",
       "50%          -3.323288\n",
       "75%          -0.791781\n",
       "max        1000.665753\n",
       "Name: DAYS_EMPLOYED, dtype: float64"
      ]
     },
     "execution_count": 49,
     "metadata": {},
     "output_type": "execute_result"
    }
   ],
   "source": [
    "#How many days before the application the perso... (def. from HomeCredit_columns_description.csv)\n",
    "(application_train['DAYS_EMPLOYED']/365).describe()"
   ]
  },
  {
   "cell_type": "code",
   "execution_count": 48,
   "id": "e901606a",
   "metadata": {},
   "outputs": [
    {
     "data": {
      "text/plain": [
       "count    48744.000000\n",
       "mean       184.891415\n",
       "std        395.475362\n",
       "min        -47.843836\n",
       "25%         -7.972603\n",
       "50%         -3.542466\n",
       "75%         -0.810959\n",
       "max       1000.665753\n",
       "Name: DAYS_EMPLOYED, dtype: float64"
      ]
     },
     "execution_count": 48,
     "metadata": {},
     "output_type": "execute_result"
    }
   ],
   "source": [
    "(application_test['DAYS_EMPLOYED']/365).describe()"
   ]
  },
  {
   "cell_type": "code",
   "execution_count": 47,
   "id": "e5df0dbf",
   "metadata": {},
   "outputs": [
    {
     "data": {
      "image/png": "[encoded data removed]",
      "text/plain": [
       "<Figure size 1440x360 with 1 Axes>"
      ]
     },
     "metadata": {},
     "output_type": "display_data"
    }
   ],
   "source": [
    "(application_train['DAYS_EMPLOYED']/365).plot.hist(title = 'Years Employment Histogram', figsize=(20,5));\n",
    "plt.xlabel('Years Employment')\n",
    "plt.show()"
   ]
  },
  {
   "cell_type": "code",
   "execution_count": null,
   "id": "a0dcbad1",
   "metadata": {},
   "outputs": [],
   "source": []
  }
 ],
 "metadata": {
  "kernelspec": {
   "display_name": "Python 3 (ipykernel)",
   "language": "python",
   "name": "python3"
  },
  "language_info": {
   "codemirror_mode": {
    "name": "ipython",
    "version": 3
   },
   "file_extension": ".py",
   "mimetype": "text/x-python",
   "name": "python",
   "nbconvert_exporter": "python",
   "pygments_lexer": "ipython3",
   "version": "3.9.13"
  }
 },
 "nbformat": 4,
 "nbformat_minor": 5
}
